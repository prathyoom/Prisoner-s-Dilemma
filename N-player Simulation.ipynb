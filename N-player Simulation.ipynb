{
 "cells": [
  {
   "cell_type": "code",
   "execution_count": 1,
   "metadata": {},
   "outputs": [],
   "source": [
    "import matplotlib as plt\n",
    "import numpy as np"
   ]
  },
  {
   "cell_type": "code",
   "execution_count": 2,
   "metadata": {},
   "outputs": [],
   "source": [
    "def pay(num, action, num_cht, num_cop):\n",
    "    if action==1:\n",
    "        val=(num_cht*1)+(num_cop*3);\n",
    "    else:\n",
    "        val=(num_cht*0)+(num_cop*2);\n",
    "    return val;"
   ]
  },
  {
   "cell_type": "code",
   "execution_count": 23,
   "metadata": {},
   "outputs": [],
   "source": [
    "strength=1;\n",
    "rounds=10;\n",
    "grudge_check=0;"
   ]
  },
  {
   "cell_type": "code",
   "execution_count": 24,
   "metadata": {},
   "outputs": [],
   "source": [
    "#theory of minds\n",
    "def joker_mind():\n",
    "    return np.random.choice(2);\n",
    "\n",
    "def grudger_mind(reward,num):\n",
    "    global grudge_check;\n",
    "    if reward<((2*num)-1):\n",
    "        grudge_check=1\n",
    "    return grudge_check;\n",
    "\n",
    "def cop_mind():\n",
    "    return 0;\n",
    "\n",
    "def cht_mind():\n",
    "    return 1;\n",
    "\n",
    "def major_mind(num_cht,num_cop):\n",
    "    if num_cht>num_cop:\n",
    "        return 1;\n",
    "    elif num_cht==num_cop:\n",
    "        return np.random.choice(2);\n",
    "    else:\n",
    "        return 0;\n",
    "\n",
    "def minor_mind(num_cht,num_cop):\n",
    "    if num_cht>num_cop:\n",
    "        return 0;\n",
    "    elif num_cht==num_cop:\n",
    "        return np.random.choice(2);\n",
    "    else:\n",
    "        return 1;    "
   ]
  },
  {
   "cell_type": "code",
   "execution_count": 25,
   "metadata": {},
   "outputs": [],
   "source": [
    "def choose_mind(main,num,reward,num_cht,num_cop):\n",
    "    if num==0:\n",
    "        return joker_mind();\n",
    "    elif num==1:\n",
    "        val=grudger_mind(reward,main);\n",
    "        #print(val,reward,end=' ');\n",
    "        return val;\n",
    "    elif num==2:\n",
    "        #val=cop_mind();\n",
    "        return cop_mind();\n",
    "    elif num==3:\n",
    "        return cht_mind();\n",
    "    elif num==4:\n",
    "        val=major_mind(num_cht,num_cop);\n",
    "        return major_mind(num_cht,num_cop);\n",
    "    else:\n",
    "        return minor_mind(num_cht,num_cop);"
   ]
  },
  {
   "cell_type": "code",
   "execution_count": 28,
   "metadata": {},
   "outputs": [],
   "source": [
    "people=[]\n",
    "total_num=6*strength;\n",
    "for i in range(total_num):\n",
    "    people.append((i%6));\n",
    "\n",
    "total_reward=np.zeros(6);"
   ]
  },
  {
   "cell_type": "code",
   "execution_count": 35,
   "metadata": {},
   "outputs": [],
   "source": [
    "# 2-people interaction\n",
    "reward=[0,0]\n",
    "for times in range(10):\n",
    "    total_reward=np.zeros(6);\n",
    "    for i in range(total_num):\n",
    "        for j in range(i+1,total_num):\n",
    "            if (i%6)==5 or (j%6)==5 or (i%6)==0 or (j%6)==0:\n",
    "                continue;\n",
    "            state=[0,0]\n",
    "            reward=[3,3]\n",
    "            grudge_check=0\n",
    "            for k in range(rounds):\n",
    "                new_state=np.zeros(2);\n",
    "                cnt=0;\n",
    "                pl1=people[i];\n",
    "                pl2=people[j];\n",
    "\n",
    "                cnt=state[1];\n",
    "                new_state[0]=choose_mind(2,pl1,reward[0],cnt,1-cnt);\n",
    "                reward[0]=pay(2,new_state[0],cnt,1-cnt);\n",
    "\n",
    "                cnt=state[0];\n",
    "                new_state[1]=choose_mind(2,pl2,reward[1],cnt,1-cnt);\n",
    "                reward[1]=pay(2,new_state[1],cnt,1-cnt);\n",
    "\n",
    "                state=new_state;\n",
    "                total_reward[pl1]+=reward[0];\n",
    "                total_reward[pl2]+=reward[1];\n",
    "    maxi=[]\n",
    "    siz=1;\n",
    "    maxi_pl=0;\n",
    "    mini_pl=0;\n",
    "    maxi_reward=0;\n",
    "    mini_reward=200000000;\n",
    "    \n",
    "    for i in range(total_num):\n",
    "        if maxi_reward<total_reward[i]:\n",
    "            maxi_reward=total_reward[i];\n",
    "            maxi_pl=i;\n",
    "        if mini_reward>total_reward[i]:\n",
    "            mini_reward=total_reward[i];\n",
    "            mini_pl=i;\n",
    "    people[mini_pl]=people[maxi_pl];\n",
    "#print(i,j,total_reward[1],total_reward[4],'\\n',end=' ');"
   ]
  },
  {
   "cell_type": "code",
   "execution_count": 36,
   "metadata": {},
   "outputs": [
    {
     "name": "stdout",
     "output_type": "stream",
     "text": [
      "3 1 2 3 4 5 0.0 80.0 72.0 90.0 81.0 0.0 "
     ]
    }
   ],
   "source": [
    "for i in range(6):\n",
    "    print(people[i],end=' ');\n",
    "for i in range(6):\n",
    "    print(total_reward[i],end=' ');"
   ]
  },
  {
   "cell_type": "code",
   "execution_count": 8,
   "metadata": {},
   "outputs": [],
   "source": [
    "# 3-people interaction\n",
    "for i in range(total_num):\n",
    "    for j in range(i+1,total_num):\n",
    "        for k in range(j+1,total_num):\n",
    "            state=[0,0,0]\n",
    "            reward=[5,5,5]\n",
    "            grudge_check=0\n",
    "            for l in range(rounds):\n",
    "                new_state=np.zeros(3);\n",
    "                cnt=0;\n",
    "                pl1=(i%6);\n",
    "                pl2=(j%6);\n",
    "                pl3=(k%6);\n",
    "                cnt=state[1]+state[2];\n",
    "                new_state[0]=choose_mind(3,pl1,reward[0],cnt,2-cnt);\n",
    "                reward[0]=pay(3,new_state[0],cnt,2-cnt);\n",
    "                \n",
    "                cnt=state[0]+state[2];\n",
    "                new_state[1]=choose_mind(3,pl2,reward[1],cnt,2-cnt);\n",
    "                reward[1]=pay(3,new_state[1],cnt,2-cnt);\n",
    "                \n",
    "                cnt=state[0]+state[1];\n",
    "                new_state[2]=choose_mind(3,pl3,reward[2],cnt,2-cnt);\n",
    "                reward[2]=pay(3,new_state[2],cnt,2-cnt)\n",
    "                \n",
    "                state=new_state;\n",
    "                total_reward[pl1]+=reward[0];\n",
    "                total_reward[pl2]+=reward[1];\n",
    "                total_reward[pl3]+=reward[2];"
   ]
  },
  {
   "cell_type": "code",
   "execution_count": 9,
   "metadata": {},
   "outputs": [],
   "source": [
    "# 4-people interaction\n",
    "for i in range(total_num):\n",
    "    for j in range(i+1,total_num):\n",
    "        for k in range(j+1,total_num):\n",
    "            for l in range(k+1,total_num):\n",
    "                state=[0,0,0,0]\n",
    "                reward=[5,5,5,5]\n",
    "                grudge_check=0\n",
    "                for m in range(rounds):\n",
    "                    new_state=np.zeros(4);\n",
    "                    cnt=0;\n",
    "                    pl1=(i%6);\n",
    "                    pl2=(j%6);\n",
    "                    pl3=(k%6);\n",
    "                    pl4=(l%6);\n",
    "                    \n",
    "                    cnt=state[1]+state[2]+state[3];\n",
    "                    new_state[0]=choose_mind(4,pl1,reward[0],cnt,3-cnt);\n",
    "                    reward[0]=pay(4,new_state[0],cnt,3-cnt);\n",
    "                    \n",
    "                    cnt=state[0]+state[2]+state[3];\n",
    "                    new_state[1]=choose_mind(4,pl2,reward[1],cnt,3-cnt);\n",
    "                    reward[1]=pay(4,new_state[1],cnt,3-cnt);\n",
    "                    \n",
    "                    cnt=state[0]+state[1]+state[3];\n",
    "                    new_state[2]=choose_mind(4,pl3,reward[2],cnt,3-cnt);\n",
    "                    reward[2]=pay(4,new_state[2],cnt,3-cnt);\n",
    "                    \n",
    "                    cnt=state[0]+state[1]+state[2];\n",
    "                    new_state[3]=choose_mind(4,pl4,reward[3],cnt,3-cnt);\n",
    "                    reward[3]=pay(4,new_state[3],cnt,3-cnt);\n",
    "                    \n",
    "                    state=new_state;\n",
    "                    total_reward[pl1]+=reward[0];\n",
    "                    total_reward[pl2]+=reward[1];\n",
    "                    total_reward[pl3]+=reward[2];\n",
    "                    total_reward[pl4]+=reward[3];"
   ]
  },
  {
   "cell_type": "code",
   "execution_count": null,
   "metadata": {},
   "outputs": [],
   "source": []
  }
 ],
 "metadata": {
  "kernelspec": {
   "display_name": "Python 3",
   "language": "python",
   "name": "python3"
  },
  "language_info": {
   "codemirror_mode": {
    "name": "ipython",
    "version": 3
   },
   "file_extension": ".py",
   "mimetype": "text/x-python",
   "name": "python",
   "nbconvert_exporter": "python",
   "pygments_lexer": "ipython3",
   "version": "3.7.0"
  }
 },
 "nbformat": 4,
 "nbformat_minor": 2
}
