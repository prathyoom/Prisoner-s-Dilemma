{
 "cells": [
  {
   "cell_type": "code",
   "execution_count": 1,
   "metadata": {},
   "outputs": [],
   "source": [
    "import gym\n",
    "import random\n",
    "import torch\n",
    "import numpy as np\n",
    "from collections import deque\n",
    "import matplotlib.pyplot as plt\n",
    "%matplotlib inline\n",
    "import gym_foo"
   ]
  },
  {
   "cell_type": "code",
   "execution_count": 2,
   "metadata": {},
   "outputs": [],
   "source": [
    "env=gym.make('foo-v0')"
   ]
  },
  {
   "cell_type": "code",
   "execution_count": 3,
   "metadata": {},
   "outputs": [],
   "source": [
    "n=5\n",
    "env.reset(n)"
   ]
  },
  {
   "cell_type": "code",
   "execution_count": 4,
   "metadata": {},
   "outputs": [],
   "source": [
    "from dqn_agent import Agent\n",
    "\n",
    "agent = []\n",
    "for i in range(n):\n",
    "    agent.append(Agent(state_size=3*n, action_size=2,seed=i))\n",
    "\n",
    "# watch an untrained agent\n",
    "state = []\n",
    "for i in range(3*n):\n",
    "    state.append(0)\n",
    "state=np.array(state)\n",
    "for j in range(200):\n",
    "    action=[]\n",
    "    for i in range(n):\n",
    "        action.append(agent[i].act(state))\n",
    "    state, reward, done = env.step(action)\n",
    "    #print(reward,action)\n",
    "    if done:\n",
    "        break "
   ]
  },
  {
   "cell_type": "code",
   "execution_count": 5,
   "metadata": {},
   "outputs": [
    {
     "name": "stdout",
     "output_type": "stream",
     "text": [
      "Episode 100\tAverage Score: 3487.40\n",
      "Episode 200\tAverage Score: 3083.48\n",
      "Episode 300\tAverage Score: 2860.39\n",
      "Episode 400\tAverage Score: 2717.70\n",
      "Episode 500\tAverage Score: 2631.02\n",
      "Episode 600\tAverage Score: 2578.25\n",
      "Episode 700\tAverage Score: 2547.81\n",
      "Episode 800\tAverage Score: 2529.51\n",
      "Episode 900\tAverage Score: 2517.53\n",
      "Episode 1000\tAverage Score: 2511.13\n",
      "Episode 1100\tAverage Score: 2513.83\n",
      "Episode 1200\tAverage Score: 2513.60\n",
      "Episode 1300\tAverage Score: 2512.53\n",
      "Episode 1400\tAverage Score: 2514.68\n",
      "Episode 1500\tAverage Score: 2512.19\n",
      "Episode 1600\tAverage Score: 2513.19\n",
      "Episode 1700\tAverage Score: 2512.92\n",
      "Episode 1800\tAverage Score: 2511.70\n",
      "Episode 1900\tAverage Score: 2513.22\n",
      "Episode 2000\tAverage Score: 2513.06\n",
      "Episode 2100\tAverage Score: 2513.18\n",
      "Episode 2200\tAverage Score: 2512.26\n",
      "Episode 2300\tAverage Score: 2513.80\n",
      "Episode 2400\tAverage Score: 2516.32\n",
      "Episode 2500\tAverage Score: 2514.48\n",
      "Episode 2600\tAverage Score: 2509.98\n",
      "Episode 2700\tAverage Score: 2515.37\n",
      "Episode 2800\tAverage Score: 2509.10\n",
      "Episode 2900\tAverage Score: 2515.56\n",
      "Episode 3000\tAverage Score: 2511.95\n",
      "Episode 3100\tAverage Score: 2512.09\n",
      "Episode 3200\tAverage Score: 2515.11\n",
      "Episode 3300\tAverage Score: 2513.18\n",
      "Episode 3400\tAverage Score: 2510.15\n",
      "Episode 3500\tAverage Score: 2517.48\n",
      "Episode 3600\tAverage Score: 2512.77\n",
      "Episode 3700\tAverage Score: 2511.86\n",
      "Episode 3800\tAverage Score: 2512.23\n",
      "Episode 3900\tAverage Score: 2514.48\n",
      "Episode 4000\tAverage Score: 2512.20\n",
      "Episode 4100\tAverage Score: 2514.10\n",
      "Episode 4200\tAverage Score: 2521.36\n",
      "Episode 4300\tAverage Score: 2535.88\n",
      "Episode 4400\tAverage Score: 2533.08\n",
      "Episode 4500\tAverage Score: 2512.64\n",
      "Episode 4600\tAverage Score: 2513.80\n",
      "Episode 4700\tAverage Score: 2514.36\n",
      "Episode 4800\tAverage Score: 2511.75\n",
      "Episode 4900\tAverage Score: 2511.17\n",
      "Episode 5000\tAverage Score: 2512.79\n"
     ]
    },
    {
     "data": {
      "image/png": "[encoded data removed]",
      "text/plain": [
       "<Figure size 432x288 with 1 Axes>"
      ]
     },
     "metadata": {},
     "output_type": "display_data"
    }
   ],
   "source": [
    "def dqn(n_episodes=5000, max_t=500, eps_start=1.0, eps_end=0.01, eps_decay=0.995):\n",
    "    scores = []                        # list containing scores from each episode\n",
    "    scores_window = deque(maxlen=100)  # last 100 scores\n",
    "    eps = eps_start                    # initialize epsilon\n",
    "    for i_episode in range(1, n_episodes+1):\n",
    "        state = []\n",
    "        env.reset(n)\n",
    "        for i in range(n*3):\n",
    "            state.append(0)\n",
    "        state=np.array(state)\n",
    "        score = 0\n",
    "        for t in range(max_t):\n",
    "            action=[]\n",
    "            for i in range(n):\n",
    "                action.append(agent[i].act(state, eps))\n",
    "            next_state, reward, done = env.step(action)\n",
    "            for i in range(n):\n",
    "                agent[i].step(state, action[0], reward[0], next_state, done)\n",
    "            state = next_state\n",
    "            score += reward[0]\n",
    "         #   print(action,reward)\n",
    "         #   print(score,action)\n",
    "            if done:\n",
    "                break \n",
    "        scores_window.append(score)       # save most recent score\n",
    "        scores.append(score)              # save most recent score\n",
    "        eps = max(eps_end, eps_decay*eps) # decrease epsilon\n",
    "        print('\\rEpisode {}\\tAverage Score: {:.2f}'.format(i_episode, np.mean(scores_window)), end=\"\")\n",
    "        if i_episode % 100 == 0:\n",
    "            print('\\rEpisode {}\\tAverage Score: {:.2f}'.format(i_episode, np.mean(scores_window)))\n",
    "        if np.mean(scores_window)>=40000.0:\n",
    "            print('\\nEnvironment solved in {:d} episodes!\\tAverage Score: {:.2f}'.format(i_episode-100, np.mean(scores_window)))\n",
    "            torch.save(agent1.qnetwork_local.state_dict(), 'checkpoint.pth')\n",
    "            break\n",
    "    return scores\n",
    "\n",
    "scores = dqn()\n",
    "\n",
    "# plot the scores\n",
    "fig = plt.figure()\n",
    "ax = fig.add_subplot(111)\n",
    "plt.plot(np.arange(len(scores)), scores)\n",
    "plt.ylabel('Score')\n",
    "plt.xlabel('Episode #')\n",
    "plt.show()"
   ]
  },
  {
   "cell_type": "code",
   "execution_count": null,
   "metadata": {},
   "outputs": [],
   "source": []
  },
  {
   "cell_type": "code",
   "execution_count": 15,
   "metadata": {},
   "outputs": [
    {
     "name": "stdout",
     "output_type": "stream",
     "text": [
      "[0, 0, 1, 1, 0]\n"
     ]
    }
   ],
   "source": [
    "print(action)"
   ]
  },
  {
   "cell_type": "code",
   "execution_count": 16,
   "metadata": {},
   "outputs": [],
   "source": [
    "torch.save(agent[0].qnetwork_local.state_dict(), 'checkpoint_5_5000_500.pth')"
   ]
  },
  {
   "cell_type": "code",
   "execution_count": 8,
   "metadata": {},
   "outputs": [
    {
     "name": "stdout",
     "output_type": "stream",
     "text": [
      "Episode 100\tAverage Score: 348.61\n",
      "Episode 200\tAverage Score: 308.61\n"
     ]
    },
    {
     "data": {
      "image/png": "[encoded data removed]",
      "text/plain": [
       "<Figure size 432x288 with 1 Axes>"
      ]
     },
     "metadata": {},
     "output_type": "display_data"
    }
   ],
   "source": [
    "def dqn(n_episodes=10000, max_t=50, eps_start=1.0, eps_end=0.01, eps_decay=0.995):\n",
    "    scores = []                        # list containing scores from each episode\n",
    "    scores_window = deque(maxlen=100)  # last 100 scores\n",
    "    eps = eps_start                    # initialize epsilon\n",
    "    for i_episode in range(1, n_episodes+1):\n",
    "        state = []\n",
    "        env.reset(n)\n",
    "        for i in range(n*15):\n",
    "            state.append(0)\n",
    "        state=np.array(state)\n",
    "        score = 0\n",
    "        for t in range(max_t):\n",
    "            action=[]\n",
    "            for i in range(n):\n",
    "                action.append(agent[i].act(state, eps))\n",
    "            next_state, reward, done = env.step(action)\n",
    "            for i in range(n):\n",
    "                agent[i].step(state, action[0], reward[0], next_state, done)\n",
    "            state = next_state\n",
    "            score += reward[0]\n",
    "         #   print(action,reward)\n",
    "         #   print(score,action)\n",
    "            if done:\n",
    "                break \n",
    "        scores_window.append(score)       # save most recent score\n",
    "        scores.append(score)              # save most recent score\n",
    "        eps = max(eps_end, eps_decay*eps) # decrease epsilon\n",
    "        print('\\rEpisode {}\\tAverage Score: {:.2f}'.format(i_episode, np.mean(scores_window)), end=\"\")\n",
    "        if i_episode % 100 == 0:\n",
    "            print('\\rEpisode {}\\tAverage Score: {:.2f}'.format(i_episode, np.mean(scores_window)))\n",
    "        if np.mean(scores_window)>=40000.0:\n",
    "            print('\\nEnvironment solved in {:d} episodes!\\tAverage Score: {:.2f}'.format(i_episode-100, np.mean(scores_window)))\n",
    "            torch.save(agent1.qnetwork_local.state_dict(), 'checkpoint.pth')\n",
    "            break\n",
    "    return scores\n",
    "\n",
    "scores = dqn()\n",
    "\n",
    "# plot the scores\n",
    "fig = plt.figure()\n",
    "ax = fig.add_subplot(111)\n",
    "plt.plot(np.arange(len(scores)), scores)\n",
    "plt.ylabel('Score')\n",
    "plt.xlabel('Episode #')\n",
    "plt.show()"
   ]
  },
  {
   "cell_type": "code",
   "execution_count": 5,
   "metadata": {},
   "outputs": [
    {
     "name": "stdout",
     "output_type": "stream",
     "text": [
      "100\n"
     ]
    }
   ],
   "source": [
    "print(env.counter)"
   ]
  },
  {
   "cell_type": "code",
   "execution_count": 29,
   "metadata": {},
   "outputs": [],
   "source": [
    "n=3"
   ]
  },
  {
   "cell_type": "code",
   "execution_count": null,
   "metadata": {},
   "outputs": [],
   "source": []
  }
 ],
 "metadata": {
  "kernelspec": {
   "display_name": "Python 3",
   "language": "python",
   "name": "python3"
  },
  "language_info": {
   "codemirror_mode": {
    "name": "ipython",
    "version": 3
   },
   "file_extension": ".py",
   "mimetype": "text/x-python",
   "name": "python",
   "nbconvert_exporter": "python",
   "pygments_lexer": "ipython3",
   "version": "3.7.0"
  }
 },
 "nbformat": 4,
 "nbformat_minor": 2
}
