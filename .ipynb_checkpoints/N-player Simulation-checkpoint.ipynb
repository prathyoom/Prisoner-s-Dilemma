{
 "cells": [
  {
   "cell_type": "code",
   "execution_count": 30,
   "metadata": {},
   "outputs": [],
   "source": [
    "import matplotlib as plt\n",
    "import numpy as np"
   ]
  },
  {
   "cell_type": "code",
   "execution_count": 31,
   "metadata": {},
   "outputs": [],
   "source": [
    "def pay(num, action, num_cht, num_cop):\n",
    "    val=action+num;\n",
    "    val-=num_cht;\n",
    "    val+=num_cop;\n",
    "    return val;"
   ]
  },
  {
   "cell_type": "code",
   "execution_count": 32,
   "metadata": {},
   "outputs": [],
   "source": [
    "strength=1;\n",
    "rounds=5;\n",
    "grudge_check=0;"
   ]
  },
  {
   "cell_type": "code",
   "execution_count": 33,
   "metadata": {},
   "outputs": [],
   "source": [
    "#theory of minds\n",
    "def joker_mind():\n",
    "    return np.random.choice(2);\n",
    "\n",
    "def grudger_mind(reward,num):\n",
    "    global grudge_check;\n",
    "    if reward<((2*num)-1):\n",
    "        grudge_check=1\n",
    "    return grudge_check;\n",
    "\n",
    "def cop_mind():\n",
    "    return 0;\n",
    "\n",
    "def cht_mind():\n",
    "    return 1;\n",
    "\n",
    "def major_mind(num_cht,num_cop):\n",
    "    if num_cht>num_cop:\n",
    "        return 1;\n",
    "    else:\n",
    "        return 0;\n",
    "\n",
    "def minor_mind(num_cht,num_cop):\n",
    "    if num_cht>num_cop:\n",
    "        return 0;\n",
    "    else:\n",
    "        return 1;    "
   ]
  },
  {
   "cell_type": "code",
   "execution_count": 66,
   "metadata": {},
   "outputs": [],
   "source": [
    "def choose_mind(main,num,reward,num_cht,num_cop):\n",
    "    if num==0:\n",
    "        return joker_mind();\n",
    "    elif num==1:\n",
    "        val=grudger_mind(reward,main);\n",
    "        #print(val,reward,end=' ');\n",
    "        return val;\n",
    "    elif num==2:\n",
    "        return cop_mind();\n",
    "    elif num==3:\n",
    "        return cht_mind();\n",
    "    elif num==4:\n",
    "        val=major_mind(num_cht,num_cop);\n",
    "        print(val,reward,end=' ');\n",
    "        return major_mind(num_cht,num_cop);\n",
    "    else:\n",
    "        return minor_mind(num_cht,num_cop);"
   ]
  },
  {
   "cell_type": "code",
   "execution_count": 67,
   "metadata": {},
   "outputs": [],
   "source": [
    "people=[]\n",
    "total_num=6*strength;\n",
    "for i in range(total_num):\n",
    "    people.append((i%6));\n",
    "\n",
    "total_reward=np.zeros(6);"
   ]
  },
  {
   "cell_type": "code",
   "execution_count": 68,
   "metadata": {},
   "outputs": [
    {
     "name": "stdout",
     "output_type": "stream",
     "text": [
      "0 3 0 3.0 0 3.0 0 3.0 1 1.0 1 2.0 1 2.0 1 4.0 1 2.0 1 4.0 0 3 0 3.0 0 3.0 0 3.0 0 3.0 0 3.0 0 3.0 0 3.0 0 3.0 0 3.0 0 3 0 3.0 1 1.0 1 2.0 1 2.0 1 2.0 1 2.0 1 2.0 1 2.0 1 2.0 0 3 0 3.0 0 3.0 0 3.0 0 3.0 0 3.0 0 3.0 0 3.0 0 3.0 0 3.0 0 3 0 3.0 1 1.0 1 2.0 1 2.0 1 4.0 1 4.0 1 4.0 1 4.0 1 4.0 "
     ]
    }
   ],
   "source": [
    "# 2-people interaction\n",
    "for i in range(total_num):\n",
    "    for j in range(i+1,total_num):\n",
    "        state=[0,0]\n",
    "        reward=[3,3]\n",
    "        grudge_check=0\n",
    "        for k in range(10):\n",
    "            new_state=np.zeros(2);\n",
    "            cnt=0;\n",
    "            pl1=(i%6);\n",
    "            pl2=(j%6);\n",
    "            cnt=state[1];\n",
    "            new_state[0]=choose_mind(2,pl1,reward[0],cnt,1-cnt);\n",
    "            reward[0]=pay(2,new_state[0],cnt,1-cnt);\n",
    "            cnt=state[0];\n",
    "            new_state[1]=choose_mind(2,pl2,reward[1],cnt,1-cnt);\n",
    "            reward[1]=pay(2,new_state[1],cnt,1-cnt);\n",
    "            state=new_state;\n",
    "            total_reward[pl1]+=reward[0];\n",
    "            total_reward[pl2]+=reward[1];"
   ]
  },
  {
   "cell_type": "code",
   "execution_count": 69,
   "metadata": {},
   "outputs": [
    {
     "name": "stdout",
     "output_type": "stream",
     "text": [
      "129.0 138.0 106.0 156.0 134.0 131.0 "
     ]
    }
   ],
   "source": [
    "for i in range(6):\n",
    "    print(total_reward[i],end=' ');"
   ]
  },
  {
   "cell_type": "code",
   "execution_count": null,
   "metadata": {},
   "outputs": [],
   "source": [
    "# 3-people interaction\n",
    "for i in range(total_num):\n",
    "    for j in range(i+1,total_num):\n",
    "        for k in range(j+1,total_num):\n",
    "            state=[0,0]\n",
    "            reward=[0,0]\n",
    "            for l in range(10):\n",
    "                new_state"
   ]
  },
  {
   "cell_type": "code",
   "execution_count": null,
   "metadata": {},
   "outputs": [],
   "source": []
  }
 ],
 "metadata": {
  "kernelspec": {
   "display_name": "Python 3",
   "language": "python",
   "name": "python3"
  },
  "language_info": {
   "codemirror_mode": {
    "name": "ipython",
    "version": 3
   },
   "file_extension": ".py",
   "mimetype": "text/x-python",
   "name": "python",
   "nbconvert_exporter": "python",
   "pygments_lexer": "ipython3",
   "version": "3.7.0"
  }
 },
 "nbformat": 4,
 "nbformat_minor": 2
}
